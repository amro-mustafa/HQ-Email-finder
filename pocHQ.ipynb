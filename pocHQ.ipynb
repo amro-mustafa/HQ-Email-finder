{
 "cells": [
  {
   "cell_type": "code",
   "execution_count": null,
   "metadata": {},
   "outputs": [],
   "source": [
    "import requests\n",
    "import justext\n",
    "from geotext import GeoText\n",
    "import re\n",
    "import pandas as pd\n",
    "import collections # to handle the dupication\n",
    "\n",
    "### country code table\n",
    "vec = pd.read_csv(r'/Users/mac/Desktop/countrycode.x.csv', error_bad_lines=False, sep=';')\n",
    "\n",
    "vec1 = []\n",
    "for p in  range(len(vec[\"code1\"])):\n",
    "    vec1.append(\"+\"+str(vec[\"code1\"][p]))    \n",
    "vec2 = []\n",
    "for p in range(len(vec[\"code1\"])):\n",
    "    vec2.append(\"00\"+str(vec.at[p,\"code1\"]))\n",
    "vec['code4'] = vec1\n",
    "vec['code5'] = vec2\n",
    "vecc= vec[['Country','code4','code5']]\n",
    "vecc = vecc.rename(columns={\"code4\": \"code1\", \"code5\": \"code2\"})\n",
    "###################\n",
    "\n",
    "## country city table\n",
    "\n",
    "coun = pd.read_csv(r'/Users/mac/Desktop/world-cities_csv.csv', error_bad_lines=False, sep=',')\n",
    "coun = coun[['name','country']]\n",
    "\n",
    "####################\n",
    "\n",
    "ve = input('Enter a company name:') # input1\n",
    "ve1 = input('Enter a company url:') # input2\n",
    "\n",
    "text1 = []\n",
    "ge1 = 'https://www.google.com/search?q='+'\"'+ve+'\"'+' headquarter'\n",
    "response = requests.get(str(ge1))\n",
    "paragraphs = justext.justext(response.content, justext.get_stoplist(\"English\"))\n",
    "for paragraph in paragraphs:\n",
    "    text = (paragraph.text)\n",
    "    text1.append(text)\n",
    "\n",
    "text2 = []\n",
    "ge2 = 'https://www.google.com/search?q='+'\"'+ve1+'\"'+' headquarter'\n",
    "response = requests.get(str(ge2))\n",
    "paragraphs = justext.justext(response.content, justext.get_stoplist(\"English\"))\n",
    "for paragraph in paragraphs:\n",
    "    text = (paragraph.text)\n",
    "    text2.append(text)\n",
    "    \n",
    "text3 = []\n",
    "ge3 = 'https://www.google.com/search?q='+'\"'+ve1+'\"'+' email'\n",
    "response = requests.get(str(ge3))\n",
    "paragraphs = justext.justext(response.content, justext.get_stoplist(\"English\"))\n",
    "for paragraph in paragraphs:\n",
    "    text = (paragraph.text)\n",
    "    text3.append(text)\n",
    "    \n",
    "text4 = []\n",
    "ge4 = 'https://www.google.com/search?q='+'\"'+ve1+'\"'+' telephone'\n",
    "response = requests.get(str(ge4))\n",
    "paragraphs = justext.justext(response.content, justext.get_stoplist(\"English\"))\n",
    "for paragraph in paragraphs:\n",
    "    text = (paragraph.text)\n",
    "    text4.append(text)"
   ]
  },
  {
   "cell_type": "code",
   "execution_count": null,
   "metadata": {},
   "outputs": [],
   "source": []
  },
  {
   "cell_type": "code",
   "execution_count": null,
   "metadata": {},
   "outputs": [],
   "source": [
    "##1 only google text with name and headquarter \n",
    "go = text1[0:text1.index([x for x in text1 if \"https://\" in x][0])]\n",
    "##2\n",
    "goo1 = go[go.index([x for x in go if \"Verbatim\" in x][0])+1:len(go)]\n",
    "\n",
    "\n",
    "cc = []\n",
    "bb = []\n",
    "if [x for x in goo1 if 'Did you mean:' in x]!=[]:\n",
    "    if [x for x in str([x for x in goo1 if 'Did you mean:' in x]).split(\" \") if \"headquarters\" in x] != []:\n",
    "        for i in range(len(goo1)):\n",
    "            sentence = (goo1)[i]\n",
    "            places = GeoText(sentence)\n",
    "            c = places.countries\n",
    "            b = places.cities\n",
    "            cc.append(c)\n",
    "            bb.append(b)\n",
    "else:\n",
    "    for i in range(len(goo1)):\n",
    "            sentence = (goo1)[i]\n",
    "            places = GeoText(sentence)\n",
    "            c = places.countries\n",
    "            b = places.cities\n",
    "            cc.append(c)\n",
    "            bb.append(b)\n",
    "if cc == [[]] or bb == [[]]:\n",
    "    for i in range(len(text2)):\n",
    "            sentence = (text2)[i]\n",
    "            places = GeoText(sentence)\n",
    "            c = places.countries\n",
    "            if c != []:\n",
    "                c = c[0]\n",
    "            b = places.cities\n",
    "            if b != []:\n",
    "                b = b[0]\n",
    "            cc.append(c)\n",
    "            bb.append(b)\n",
    "            \n",
    "c = [x for x in cc if x !=[]]\n",
    "b = [x for x in bb if x !=[]]"
   ]
  },
  {
   "cell_type": "code",
   "execution_count": null,
   "metadata": {},
   "outputs": [],
   "source": [
    "b"
   ]
  },
  {
   "cell_type": "code",
   "execution_count": null,
   "metadata": {},
   "outputs": [],
   "source": []
  },
  {
   "cell_type": "code",
   "execution_count": null,
   "metadata": {},
   "outputs": [],
   "source": []
  },
  {
   "cell_type": "code",
   "execution_count": null,
   "metadata": {},
   "outputs": [],
   "source": []
  },
  {
   "cell_type": "code",
   "execution_count": null,
   "metadata": {},
   "outputs": [],
   "source": [
    "cf"
   ]
  },
  {
   "cell_type": "code",
   "execution_count": null,
   "metadata": {},
   "outputs": [],
   "source": [
    "email1 = [x for x in text3 if \"@\" in x]\n",
    "email2 = str(email1).strip(\"[]|''\").split(\" \")\n",
    "email3 = [x for x in email2  if \"@\" in x]\n",
    "email4 = [x for x in email3  if ve in x]\n",
    "\n",
    "rgx = r'(?:\\.?)([\\w\\-_+#~!$&\\'\\.]+(?<!\\.)(@|[ ]?\\(?[ ]?(at|AT)[ ]?\\)?[ ]?)(?<!\\.)[\\w]+[\\w\\-\\.]*\\.[a-zA-Z-]{2,3})(?:[^\\w])'\n",
    "matches = re.findall(rgx, str(email4).strip(\"[]|''\"))\n",
    "get_first_group = lambda y: list(map(lambda x: x[0], y))\n",
    "emails = get_first_group(matches)\n",
    "\n",
    "rg = r'contact|kontakt|about|service|info|support|market'\n",
    "emails1 = [x for x in emails if re.findall(rg, str(x))]\n",
    "if emails !=[]:\n",
    "    if emails1 ==[]:\n",
    "        print(emails[0])\n",
    "    else:\n",
    "        print(emails1[0])\n",
    "else:\n",
    "    print(\"no result\")\n",
    "    \n"
   ]
  },
  {
   "cell_type": "code",
   "execution_count": null,
   "metadata": {},
   "outputs": [],
   "source": [
    "code1 = [x for x in text4 if \"+\" in x]\n",
    "code2 = str(code1).strip(\"[]|''\").split(\" \")\n",
    "r1 = re.compile(r'^'+'[+]', re.IGNORECASE)\n",
    "code3 = list(filter(r1.match, code2))\n",
    "\n",
    "## change code to country:\n",
    "cn = []\n",
    "for i in range(len(code3)):\n",
    "    c = vecc[vecc['code1'] == code3[i]]\n",
    "    c = c['Country'].tolist()\n",
    "    cn.append(c)\n",
    "    \n",
    "cnn = []\n",
    "for i in cn:\n",
    "    cnn.append(str(i).strip(\"[]|''\"))\n",
    "cnnn = list(dict.fromkeys(cnn))\n",
    "print(cnnn)"
   ]
  },
  {
   "cell_type": "code",
   "execution_count": null,
   "metadata": {},
   "outputs": [],
   "source": []
  },
  {
   "cell_type": "code",
   "execution_count": null,
   "metadata": {},
   "outputs": [],
   "source": [
    "mylist = [\"a\", \"b\", \"a\", \"c\", \"c\"]\n",
    "dict.fromkeys(mylist)\n",
    "\n"
   ]
  },
  {
   "cell_type": "code",
   "execution_count": null,
   "metadata": {},
   "outputs": [],
   "source": [
    "\n",
    "    \n",
    "XC = []\n",
    "for i in range(len(c)):\n",
    "    if [item for item, count in collections.Counter(c).items() if count > i] != []:\n",
    "        XC = [item for item, count in collections.Counter(c).items() if count > i]\n",
    "    \n",
    "print(XC)\n",
    "\n"
   ]
  },
  {
   "cell_type": "code",
   "execution_count": null,
   "metadata": {},
   "outputs": [],
   "source": [
    "coun"
   ]
  },
  {
   "cell_type": "code",
   "execution_count": 305,
   "metadata": {},
   "outputs": [],
   "source": [
    "r10 = re.compile(r'^'+b[0]+'$', re.IGNORECASE)\n",
    "new = list(filter(r10.match,coun['name']))"
   ]
  },
  {
   "cell_type": "code",
   "execution_count": 306,
   "metadata": {},
   "outputs": [
    {
     "data": {
      "text/plain": [
       "['Berlin']"
      ]
     },
     "execution_count": 306,
     "metadata": {},
     "output_type": "execute_result"
    }
   ],
   "source": [
    "new"
   ]
  },
  {
   "cell_type": "code",
   "execution_count": null,
   "metadata": {},
   "outputs": [],
   "source": [
    "ccc = coun[coun['name']==str(new).strip(\"[]|''\")]"
   ]
  },
  {
   "cell_type": "code",
   "execution_count": null,
   "metadata": {},
   "outputs": [],
   "source": [
    "ccc = coun[coun['name']==str(new).strip(\"[]|''\")]\n",
    "ccc = ccc['country'].tolist()\n",
    "str(ccc).strip(\"[]|''\")"
   ]
  },
  {
   "cell_type": "code",
   "execution_count": 321,
   "metadata": {},
   "outputs": [
    {
     "data": {
      "text/plain": [
       "['Germany', 'Germany', 'Germany']"
      ]
     },
     "execution_count": 321,
     "metadata": {},
     "output_type": "execute_result"
    }
   ],
   "source": [
    "cico"
   ]
  },
  {
   "cell_type": "code",
   "execution_count": null,
   "metadata": {},
   "outputs": [],
   "source": [
    "## change the google city to country and compare it with google country, return city and country if exist :\n",
    "if c !=[] and b !=[]:\n",
    "    cico=[]\n",
    "    for i in range(len(b)):\n",
    "        r10 = re.compile(r'^'+b[i]+'$', re.IGNORECASE)\n",
    "        new = list(filter(r10.match,coun['name'])) \n",
    "        ccc = coun[coun['name']==str(new).strip(\"[]|''\")]\n",
    "        ccc = ccc['country'].tolist()\n",
    "        ccc = str(ccc).strip(\"[]|''\")\n",
    "        cico.append(ccc)\n",
    "    "
   ]
  },
  {
   "cell_type": "code",
   "execution_count": 315,
   "metadata": {},
   "outputs": [],
   "source": [
    "for i in range(len(cico)):\n",
    "    if list(filter(re.compile(cico[i], re.IGNORECASE).findall, c)) != []:\n",
    "        "
   ]
  },
  {
   "cell_type": "code",
   "execution_count": 323,
   "metadata": {},
   "outputs": [],
   "source": [
    "if c !=[] and b !=[]:\n",
    "    cbc = []\n",
    "    for i in range(len(b)):\n",
    "        r10 = re.compile(r'^'+b[i]+'$', re.IGNORECASE)\n",
    "        new = list(filter(r10.match,coun['name'])) \n",
    "        ccc = coun[coun['name']==str(new).strip(\"[]|''\")]\n",
    "        ccc = ccc['country'].tolist()\n",
    "        ccc = str(ccc).strip(\"[]|''\")\n",
    "        if list(filter(re.compile(ccc, re.IGNORECASE).findall, c)) != []:\n",
    "            cbc.append((b[i],ccc))"
   ]
  },
  {
   "cell_type": "code",
   "execution_count": 324,
   "metadata": {},
   "outputs": [
    {
     "data": {
      "text/plain": [
       "[('Berlin', 'Germany'), ('Berlin', 'Germany'), ('Berlin', 'Germany')]"
      ]
     },
     "execution_count": 324,
     "metadata": {},
     "output_type": "execute_result"
    }
   ],
   "source": [
    "cbc"
   ]
  }
 ],
 "metadata": {
  "kernelspec": {
   "display_name": "myenvyour_env_name",
   "language": "python",
   "name": "your_env_name"
  },
  "language_info": {
   "codemirror_mode": {
    "name": "ipython",
    "version": 3
   },
   "file_extension": ".py",
   "mimetype": "text/x-python",
   "name": "python",
   "nbconvert_exporter": "python",
   "pygments_lexer": "ipython3",
   "version": "3.6.10"
  }
 },
 "nbformat": 4,
 "nbformat_minor": 2
}
